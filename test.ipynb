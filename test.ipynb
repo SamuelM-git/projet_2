{
 "cells": [
  {
   "cell_type": "code",
   "execution_count": 10,
   "id": "f5dc881e",
   "metadata": {},
   "outputs": [
    {
     "name": "stdout",
     "output_type": "stream",
     "text": [
      "https://image.tmdb.org/t/p/w500/qxJAam675KDRIrT5KMYMOMVHBqQ.jpg\n"
     ]
    }
   ],
   "source": [
    "import pandas as pd\n",
    "\n",
    "df_movies = pd.read_csv(\"films_final.csv\")\n",
    "film_id = df_movies[df_movies[\"title\"].str.contains(\"Le plaisir\")]\n",
    "img4 = film_id['poster_path'].iloc[0]\n",
    "print(img4)"
   ]
  }
 ],
 "metadata": {
  "kernelspec": {
   "display_name": ".venvstreamlit",
   "language": "python",
   "name": "python3"
  },
  "language_info": {
   "codemirror_mode": {
    "name": "ipython",
    "version": 3
   },
   "file_extension": ".py",
   "mimetype": "text/x-python",
   "name": "python",
   "nbconvert_exporter": "python",
   "pygments_lexer": "ipython3",
   "version": "3.11.9"
  }
 },
 "nbformat": 4,
 "nbformat_minor": 5
}
